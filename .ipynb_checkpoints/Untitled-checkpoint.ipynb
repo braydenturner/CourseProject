{
 "cells": [
  {
   "cell_type": "code",
   "execution_count": 7,
   "id": "de08cc07",
   "metadata": {},
   "outputs": [],
   "source": [
    "from lyricsgenius import Genius\n",
    "import imdb"
   ]
  },
  {
   "cell_type": "code",
   "execution_count": 35,
   "id": "585adc5c",
   "metadata": {},
   "outputs": [],
   "source": [
    "from lyricsgenius import Genius\n",
    "import json\n",
    "import csv\n",
    "import multiprocessing"
   ]
  },
  {
   "cell_type": "code",
   "execution_count": 16,
   "id": "4931422e",
   "metadata": {},
   "outputs": [
    {
     "name": "stdout",
     "output_type": "stream",
     "text": [
      "8344\n"
     ]
    }
   ],
   "source": [
    "# Pull out artists\n",
    "\n",
    "artists = []\n",
    "for x in range(1,5):\n",
    "  path = 'artists/10000-MTV-Music-Artists-page-%s.csv' % str(x)\n",
    "  with open(path) as csvfile:\n",
    "      TopArtists = csv.reader(csvfile)\n",
    "      next(TopArtists)\n",
    "      for row in TopArtists:\n",
    "          artists.append(row[0])\n",
    "\n",
    "print(len(artists))"
   ]
  },
  {
   "cell_type": "code",
   "execution_count": null,
   "id": "d12824ee",
   "metadata": {},
   "outputs": [
    {
     "name": "stdout",
     "output_type": "stream",
     "text": [
      "Searching Draaco Aventura\n",
      "Searching Adele\n",
      "Searching Taylor Swift\n",
      "Searching Selena Gomez\n",
      "Searching Carrie Underwood\n",
      "Searching Peer van Mladen\n",
      "Searching One Direction\n",
      "Searching Thomas Rhett\n",
      "Searching Nicki Minaj\n",
      "Searching 5 Seconds Of Summer\n",
      "Searching Beyoncé\n",
      "Searching Twenty One Pilots\n",
      "Searching Ariana Grande\n",
      "Searching Rihanna\n",
      "Searching Luke Bryan\n",
      "Searching Lil Wayne\n",
      "Peer van Mladen not found\n",
      "Searching Chris Janson\n",
      "Draaco Aventura number of songs: 1Searching Justin Bieber\n"
     ]
    }
   ],
   "source": [
    "# Genius setup\n",
    "token = \"EBufquOcw_ts4Y4V7yiddUNyUakTdqCpnMZhiI3XtAScWOntEom8Hj4T87gAV_cA\"\n",
    "genius = Genius(token, retries=2)\n",
    "\n",
    "genius.verbose = False\n",
    "genius.remove_section_headers = True\n",
    "genius.skip_non_songs = True\n",
    "genius.excluded_terms = [\"(Remix)\", \"(Live)\"]\n",
    "\n",
    "process_number = int(multiprocessing.cpu_count())\n",
    "\n",
    "shortened_list = artists[0:32]\n",
    "\n",
    "temp_artists = multiprocessing.Manager().list(shortened_list)\n",
    "\n",
    "\n",
    "# Processing\n",
    "def clean_data(data):\n",
    "    cleaned_data = data.replace(\"\\n\", \" \").replace(\",\", \" \")\n",
    "    return cleaned_data\n",
    "\n",
    "def process_artist(artist):\n",
    "    artist_dict = artist.to_dict()\n",
    "    return \"\"\n",
    "\n",
    "def process_song(song):\n",
    "    lyrics = clean_data(song.lyrics)\n",
    "    return lyrics\n",
    "\n",
    "\n",
    "# Run genius search\n",
    "def search_genius(sub_list):\n",
    "    try:\n",
    "        sub_song_lyrics = []\n",
    "        for artist in sub_list:\n",
    "            print(\"Searching {artist}\\n\".format(artist=artist.strip()), end='')\n",
    "            genius_artist = genius.search_artist(artist, per_page=50, get_full_info=False)\n",
    "            if genius_artist == None:\n",
    "                print(\"{artist} not found\\n\".format(artist=artist.strip()), end='')\n",
    "                continue\n",
    "            artist_data =  process_artist(genius_artist)\n",
    "            print(\"{artist} number of songs: {song_num}\\n\".format(artist=artist.strip(), song_num=len(genius_artist.songs)), end='')\n",
    "            for song in genius_artist.songs:\n",
    "                song_data = process_song(song)\n",
    "                sub_song_lyrics.append([song.title + \" - \" + song.artist, song.lyrics])\n",
    "        return sub_song_lyrics\n",
    "    except Error:\n",
    "        print(\"Oops\\n\", end='')\n",
    "    \n",
    "    \n",
    "def multi_processed():\n",
    "    def split(a, n):\n",
    "        k, m = divmod(len(a), n)\n",
    "        return (a[i*k+min(i, m):(i+1)*k+min(i+1, m)] for i in range(n))\n",
    "\n",
    "    split_list = list(split(shortened_list, process_number))\n",
    "    # creating processes\n",
    "    pool = multiprocessing.Pool(process_number)\n",
    "    results = pool.map(search_genius, split_list)\n",
    "    print(results)\n",
    "\n",
    "def single():\n",
    "    result = search_genius(shortened_list)\n",
    "    print(result)\n",
    "    \n",
    "multi_processed()\n",
    "\n"
   ]
  },
  {
   "cell_type": "code",
   "execution_count": 22,
   "id": "52ec72ff",
   "metadata": {},
   "outputs": [
    {
     "data": {
      "text/plain": [
       "16"
      ]
     },
     "execution_count": 22,
     "metadata": {},
     "output_type": "execute_result"
    }
   ],
   "source": [
    "import multiprocessing\n",
    "\n",
    "multiprocessing.cpu_count()"
   ]
  }
 ],
 "metadata": {
  "kernelspec": {
   "display_name": "Python 3",
   "language": "python",
   "name": "python3"
  },
  "language_info": {
   "codemirror_mode": {
    "name": "ipython",
    "version": 3
   },
   "file_extension": ".py",
   "mimetype": "text/x-python",
   "name": "python",
   "nbconvert_exporter": "python",
   "pygments_lexer": "ipython3",
   "version": "3.6.8"
  }
 },
 "nbformat": 4,
 "nbformat_minor": 5
}
